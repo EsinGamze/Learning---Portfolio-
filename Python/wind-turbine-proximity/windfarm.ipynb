{
 "cells": [
  {
   "cell_type": "code",
   "execution_count": null,
   "id": "8cb48d16",
   "metadata": {},
   "outputs": [],
   "source": [
    "# Import necessary libraries\n",
    "import geopandas as gpd\n",
    "from shapely.geometry import Point\n",
    "import folium\n",
    "\n",
    "import matplotlib.pyplot as plt"
   ]
  },
  {
   "cell_type": "markdown",
   "id": "85909dcb",
   "metadata": {},
   "source": [
    "# Wind Turbine Proximity Analysis in Berlin\n",
    "\n",
    "## Project Description\n",
    "\n",
    "This project analyzes the spatial proximity of wind turbines to urban districts (Bezirksgrenzen) within Berlin, Germany. The goal is to evaluate how close wind energy infrastructure is to residential or administrative centers and to assess potential planning or environmental implications.\n",
    "\n",
    "## Objective\n",
    "\n",
    "- Calculate the distance between each wind turbine and the nearest city centroid.\n",
    "- Visualize wind turbines that are within 5 kilometers of urban districts.\n",
    "- Create a color-coded map and a histogram showing the distribution of distances.\n",
    "\n",
    "## Tools and Technologies\n",
    "\n",
    "- GeoPandas: for geospatial analysis and distance computation\n",
    "- Folium: for interactive web map visualization\n",
    "- Shapely: for geometry operations\n",
    "- Matplotlib: for plotting histogram\n",
    "- OpenStreetMap and official GeoJSON files for Berlin city boundaries and turbine locations\n",
    "\n",
    "## Methodology\n",
    "\n",
    "1. Load wind turbine and city boundary datasets (GeoJSON format).\n",
    "2. Transform coordinate reference system to EPSG:3857 for accurate distance calculations.\n",
    "3. Calculate the centroid of each city polygon.\n",
    "4. Compute the shortest distance from each wind turbine to the nearest city centroid.\n",
    "5. Filter and highlight turbines within 5 km.\n",
    "6. Reproject to EPSG:4326 for visualization on a web map.\n",
    "7. Create an interactive Folium map with color-coded markers:\n",
    "   - Red for distances < 2 km\n",
    "   - Orange for distances between 2–5 km\n",
    "8. Plot a histogram showing the distribution of all computed distances.\n",
    "\n",
    "## Data Sources\n",
    "\n",
    "- **Berlin Wind Turbines**  \n",
    "  Source: [Overpass Turbo](https://overpass-turbo.eu)  \n",
    "  Query used:\n",
    "  ```overpass\n",
    "  [out:json][timeout:25];\n",
    "  (\n",
    "    node[\"power\"=\"generator\"][\"generator:source\"=\"wind\"](52.3, 13.1, 52.7, 13.6);\n",
    "    way[\"power\"=\"generator\"][\"generator:source\"=\"wind\"](52.3, 13.1, 52.7, 13.6);\n",
    "    relation[\"power\"=\"generator\"][\"generator:source\"=\"wind\"](52.3, 13.1, 52.7, 13.6);\n",
    "  );\n",
    "  out body;\n",
    "  >;\n",
    "  out skel qt;\n",
    "- **Berlin District Boundaries (Bezirksgrenzen)**  \n",
    "  Source: Berlin Open Data Portal – Bezirksgrenzen  \n",
    "Format: GeoJSON\n",
    "\n",
    "\n",
    "## Result Summary\n",
    "\n",
    "- Number of wind turbines within 5 km: X  \n",
    "- Average distance: Y km  \n",
    "- Minimum distance: Z₁ km  \n",
    "- Maximum distance: Z₂ km  \n",
    "\n",
    "*(Values are printed by the script automatically.)*\n",
    "\n",
    "## Commentary\n",
    "\n",
    "A notable number of wind turbines are located within a short range of city districts, which could raise considerations regarding noise, land use, or wildlife impact. This analysis demonstrates a basic but useful way to spatially assess infrastructure placement relative to populated areas.\n",
    "\n",
    "The study could be expanded by including protected nature zones, bird migration corridors, or noise modeling layers. The interactive map provides a visual and intuitive tool for communicating findings to stakeholders and non-technical audiences.\n"
   ]
  },
  {
   "cell_type": "code",
   "execution_count": null,
   "id": "b1f795d8",
   "metadata": {},
   "outputs": [],
   "source": [
    "# Read wind turbine locations and administrative district boundaries\n",
    "turbines = gpd.read_file(\"wind_turbines.geojson\").explode(index_parts=False)\n",
    "cities = gpd.read_file(\"bezirksgrenzen.geojson\").explode(index_parts=False)\n",
    "\n",
    "# Convert coordinate systems to EPSG:3857 (metric-based, necessary for distance calculations in meters)\n",
    "turbines = turbines.to_crs(epsg=3857)\n",
    "cities = cities.to_crs(epsg=3857)\n",
    "\n",
    "# Calculate the centroid of each city (to approximate city center)\n",
    "cities['centroid'] = cities.geometry.centroid\n",
    "\n",
    "# Calculate the minimum distance (in km) from each wind turbine to the nearest city center\n",
    "turbines['nearest_dist'] = turbines.geometry.apply(\n",
    "    lambda x: cities['centroid'].distance(x).min() / 1000  # [km] \n",
    ")\n",
    "\n",
    "# Filter wind turbines that are within 5 km of the nearest city center\n",
    "close_turbines = turbines[turbines['nearest_dist'] <= 5]\n",
    "\n",
    "# Reproject back to EPSG:4326 for web mapping (Folium requires geographic coordinates in degrees)\n",
    "close_turbines = close_turbines.to_crs(epsg=4326)\n",
    "\n",
    "# Create an interactive Folium map centered on Berlin\n",
    "# Red = <2 km (potential impact), Orange = 2–5 km (moderate buffer)\n",
    "m = folium.Map(location=[52.52, 13.4], zoom_start=11)\n",
    "for _, row in close_turbines.iterrows():\n",
    "    dist = row['nearest_dist']\n",
    "    if dist < 2:\n",
    "        color = 'red'\n",
    "    else:\n",
    "        color = 'orange'  # 2–5 km arası\n",
    "\n",
    "    folium.CircleMarker(\n",
    "        location=[row.geometry.y, row.geometry.x],\n",
    "        radius=6,\n",
    "        color=color,\n",
    "        fill=True,\n",
    "        fill_opacity=0.7,\n",
    "        popup=f\"{dist:.2f} km to city\"\n",
    "    ).add_to(m)\n",
    "\n",
    "# Save the map as an interactive HTML file\n",
    "m.save(\"wind_turbines_proximity_final.html\")\n",
    "\n"
   ]
  },
  {
   "cell_type": "code",
   "execution_count": null,
   "id": "e6e74fae",
   "metadata": {},
   "outputs": [
    {
     "data": {
      "image/png": "[encoded data removed]",
      "text/plain": [
       "<Figure size 640x480 with 1 Axes>"
      ]
     },
     "metadata": {},
     "output_type": "display_data"
    }
   ],
   "source": [
    "# Plot a histogram of distances from wind turbines to the nearest city centroid\n",
    "close_turbines['nearest_dist'].hist(bins=10, color='skyblue', edgecolor='black')\n",
    "plt.title(\"Distance to Nearest City Centroid\")\n",
    "plt.xlabel(\"Distance (km)\")\n",
    "plt.ylabel(\"Number of Wind Turbines\")\n",
    "plt.grid(True)\n",
    "plt.tight_layout()\n",
    "plt.savefig(\"distance_histogram.png\")\n",
    "plt.show()\n"
   ]
  },
  {
   "cell_type": "code",
   "execution_count": 16,
   "id": "b1eaa3a6",
   "metadata": {},
   "outputs": [
    {
     "name": "stdout",
     "output_type": "stream",
     "text": [
      "Number of wind turbines within 5 km: 17\n",
      "Average distance: 3.6027318429406385 km\n",
      "Minimum distance: 0.9838264788006651 km\n",
      "Maximum distance: 4.799892368238902 km\n"
     ]
    }
   ],
   "source": [
    "print(\"Number of wind turbines within 5 km:\", len(close_turbines))\n",
    "print(\"Average distance:\", close_turbines['nearest_dist'].mean(), \"km\")\n",
    "print(\"Minimum distance:\", close_turbines['nearest_dist'].min(), \"km\")\n",
    "print(\"Maximum distance:\", close_turbines['nearest_dist'].max(), \"km\")\n"
   ]
  }
 ],
 "metadata": {
  "kernelspec": {
   "display_name": "geo",
   "language": "python",
   "name": "python3"
  },
  "language_info": {
   "codemirror_mode": {
    "name": "ipython",
    "version": 3
   },
   "file_extension": ".py",
   "mimetype": "text/x-python",
   "name": "python",
   "nbconvert_exporter": "python",
   "pygments_lexer": "ipython3",
   "version": "3.11.11"
  }
 },
 "nbformat": 4,
 "nbformat_minor": 5
}
